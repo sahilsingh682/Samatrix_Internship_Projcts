{
 "cells": [
  {
   "cell_type": "markdown",
   "id": "90669b2b-d38c-47a2-8753-ad953532ec33",
   "metadata": {},
   "source": [
    "# project 3 \n"
   ]
  },
  {
   "cell_type": "markdown",
   "id": "6978cb78-4702-4ccd-99f8-ff5b90cfba7c",
   "metadata": {},
   "source": [
    "# call center operations optimization : A simulation - based approch to staffing , cost , and customer experience "
   ]
  },
  {
   "cell_type": "code",
   "execution_count": null,
   "id": "477869cb-2c97-424e-826d-17a3d17c9700",
   "metadata": {},
   "outputs": [],
   "source": [
    "1. understand queueing theroy basics\n",
    "2. perform event- based simulations\n",
    "3. analyzis services perofmorm metrics\n",
    "4. compare simulated system behaivor"
   ]
  },
  {
   "cell_type": "markdown",
   "id": "a2a2fcd2-b431-46b1-be73-95a795c609d4",
   "metadata": {},
   "source": [
    "# step 1: Importing Libraries\n",
    "\n",
    "numpy is imported as np:\n",
    "Used for numerical operations like random number generation, arrays, and mathematical computations.\n",
    "\n",
    "matplotlib.pyplot as plt:\n",
    "Used to create graphs and visualizations.\n",
    "\n"
   ]
  },
  {
   "cell_type": "code",
   "execution_count": 188,
   "id": "b921678a-b5c6-424a-9d31-153744e2bbd6",
   "metadata": {},
   "outputs": [],
   "source": [
    " # 1 parameteres & packages\n",
    "\n",
    "import numpy as np\n",
    "import matplotlib.pyplot as plt\n",
    "\n",
    "# arrival  &  service rates\n",
    "\n",
    "lamda = 20 \n",
    "µ = 5\n",
    "shift_hours = 8 \n",
    "\n",
    "# simulation  settings\n",
    "np.random.seed(1)"
   ]
  },
  {
   "cell_type": "markdown",
   "id": "b26d4b53-279b-47ed-996d-ce5f2ff4a7b0",
   "metadata": {},
   "source": [
    "# Step 2: Call Center Simulation Function\n",
    "\n",
    "simulate_call_center(...): A function to simulate customer behavior in a call center.\n",
    "\n",
    "arrival_rate: Probability of a customer arriving in a time unit.\n",
    "\n",
    "service_rate: Average number of customers served per time unit.\n",
    "\n",
    "simulation_time: Total time units for which the simulation runs.\n",
    "\n",
    "- Inside the function:\n",
    "\n",
    "time = 0: Initialize current time.\n",
    "\n",
    "queue = []: List to hold arrival times of waiting customers.\n",
    "\n",
    "in_service = None: No one is being served initially.\n",
    "\n",
    "wait_times = []: Store how long each customer waited before getting served.\n",
    "\n",
    "\n",
    "- 💡 Main Simulation Loop: while time < simulation_time:\n",
    "np.random.rand() < arrival_rate:\n",
    "Simulates whether a new customer arrives at this moment (based on probability).\n",
    "\n",
    "queue.append(time):\n",
    "If a customer arrives, we record their arrival time.\n",
    "\n",
    "if in_service is None and queue:\n",
    "If no one is being served and the queue isn't empty, start serving the next customer.\n",
    "\n",
    "arrival_time = queue.pop(0):\n",
    "Get the first customer from the queue.\n",
    "\n",
    "wait_times.append(time - arrival_time):\n",
    "Calculate how long they waited.\n",
    "\n",
    "in_service = np.random.exponential(1 / service_rate):\n",
    "Randomly generate the service time using an exponential distribution (common in queueing theory).\n",
    "\n",
    "in_service -= 1:\n",
    "One unit of service time is consumed.\n",
    "\n",
    "if in_service <= 0:\n",
    "If service completes, free the agent.\n",
    "\n",
    "time += 1:\n",
    "Move to the next time unit.\n",
    "\n",
    "\n",
    "\n",
    "\n",
    "\n",
    "\n"
   ]
  },
  {
   "cell_type": "code",
   "execution_count": 190,
   "id": "05390954-1ab2-4105-a787-06c7e25df2c1",
   "metadata": {},
   "outputs": [
    {
     "name": "stdout",
     "output_type": "stream",
     "text": [
      "s=1: avg wait 808.2 min,avg queue len 65.99\n"
     ]
    }
   ],
   "source": [
    "np.random.seed(1)\n",
    "\n",
    "def simulate_queue(s):\n",
    "    \"\"\"\n",
    "    Simulate an M/M/s queue over 'shift_hours'.\n",
    "    Returns arrays of wait times (hrs) and system sizes at arrivals.\n",
    "    \"\"\"\n",
    "\n",
    "    # Generate arrival time until end of the shift\n",
    "    inter = np.random.exponential(1/lamda, int(lamda*shift_hours*1.5))\n",
    "    arrivals = np.cumsum(inter)\n",
    "    arrivals = arrivals[arrivals < shift_hours]\n",
    "    N = len(arrivals)\n",
    "\n",
    "    # Generate services times for each caller\n",
    "    services = np.random.exponential(1/µ , N)\n",
    "\n",
    "    # Track each server's next - free time\n",
    "    next_free = np.zeros(s)\n",
    "    wait_times = np.zeros(N)\n",
    "    system_size = np.zeros(N)\n",
    "\n",
    "    # Departure times list\n",
    "    dep_times = []\n",
    "\n",
    "    for i, t in enumerate (arrivals):\n",
    "        # FInd soonest - available agent \n",
    "            j = np.argmin(next_free)\n",
    "            start = max(t, next_free[j])\n",
    "            wait_times[i] = start-t\n",
    "            end = start + services[i]\n",
    "            next_free[j] = end\n",
    "            dep_times.append(end)\n",
    "\n",
    "            # Count how many callers are still in system at time t\n",
    "            system_size[i] = np.sum(np.array(dep_times) > t)\n",
    "    return wait_times, system_size\n",
    "\n",
    "# Quick Test for s=1\n",
    "w1, q1 = simulate_queue(s=1)\n",
    "print(f\"s=1: avg wait {w1.mean()*60:.1f} min,avg queue len {q1.mean():.2f}\")\n"
   ]
  },
  {
   "cell_type": "markdown",
   "id": "1ab1d6b0-7a2c-4d55-8f12-4123d05ac0c7",
   "metadata": {},
   "source": [
    "# step 3  compare to M/M/1 analytic formula\n"
   ]
  },
  {
   "cell_type": "markdown",
   "id": "2f9260fd-9bb2-4275-b38f-a2a77cf3c877",
   "metadata": {},
   "source": [
    "# Step 3: Running the Simulation and Plotting\n",
    "\n",
    "- arrival_rate = 0.1:\n",
    "On average, 1 call every 10 units of time.\n",
    "\n",
    "- service_rate = 0.125:\n",
    "On average, 1 call handled every 8 units of time.\n",
    "\n",
    "- simulation_time = 1000:\n",
    "Run the simulation for 1000 time units.\n",
    "\n",
    "## Plotting\n",
    "plt.hist(wait_times, bins=30, edgecolor='black'):\n",
    "Plot a histogram of customer wait times with 30 bins.\n",
    "\n",
    "Labels and title: Describe the graph.\n",
    "\n",
    "plt.show():\n",
    "Display the plot.\n",
    "\n"
   ]
  },
  {
   "cell_type": "code",
   "execution_count": 193,
   "id": "b7625ea1-f6a0-41ca-a73c-99b65f61c1d6",
   "metadata": {},
   "outputs": [
    {
     "name": "stdout",
     "output_type": "stream",
     "text": [
      "M/M/1 anaytic vs. simulation :\n",
      " analytic system size L = -1.33\n",
      "simulated avg system size = 65.99\n",
      "analytic time in system W = -4.0min\n",
      "simulated avg wait+service = 820.2min\n"
     ]
    }
   ],
   "source": [
    "p1 = lamda / µ \n",
    "L_analytic = p1 / (1 - p1)\n",
    "W_analytic = L_analytic / lamda \n",
    "\n",
    "print(\"M/M/1 anaytic vs. simulation :\")\n",
    "print(f\" analytic system size L = {L_analytic:.2f}\")\n",
    "print(f\"simulated avg system size = {q1.mean():.2f}\")\n",
    "print(f\"analytic time in system W = {W_analytic*60:.1f}min\")\n",
    "print(f\"simulated avg wait+service = {w1.mean()*60 + (1/µ) *60:.1f}min\")"
   ]
  },
  {
   "cell_type": "markdown",
   "id": "c07b4412-6057-4a58-bb96-a5d1f4a2582a",
   "metadata": {},
   "source": [
    "# step 4 : testing staffing levels (agent = 1 to 5)"
   ]
  },
  {
   "cell_type": "code",
   "execution_count": 196,
   "id": "44f69746-7ee8-43bd-b4a3-f76816b31065",
   "metadata": {},
   "outputs": [
    {
     "name": "stdout",
     "output_type": "stream",
     "text": [
      "   agents  Avg wait(min)  95th pct wait(min)  avg system size\n",
      "0       1     697.214437         1369.612086        57.838509\n",
      "1       2     302.261095          549.271769        53.319767\n",
      "2       3      85.889649          170.968262        24.240260\n",
      "3       4       6.076046           17.455365         5.887218\n",
      "4       5      12.704327           33.414296        10.275132\n",
      "\n",
      " even\n"
     ]
    }
   ],
   "source": [
    "threshold = 5  # Minutes\n",
    "results = []\n",
    "\n",
    "for s in range(1,6):\n",
    "    w, q = simulate_queue(s)\n",
    "    # Convert hours to minutes\n",
    "    waits_min = w * 60\n",
    "    p95_wait = np.percentile(waits_min, 95)\n",
    "    results.append((s,waits_min.mean(),p95_wait,q.mean()))\n",
    "\n",
    "# tabulate \n",
    "import pandas as pd\n",
    "df = pd.DataFrame(results, columns = ['agents' , 'Avg wait(min)','95th pct wait(min)','avg system size'])\n",
    "print(df)\n",
    "\n",
    "#find minimul s meeting therehold\n",
    "\n",
    "good = df[df['95th pct wait(min)'] <= threshold]\n",
    "\n",
    "if not good.empty:\n",
    "    best_s = int(good.iloc[0]['Agents'])\n",
    "    print(f\"\\n-> schedule at least {best_s} agents to keep 95% of waits <= {threshold} min\")\n",
    "else:\n",
    "    print(\"\\n even\")"
   ]
  },
  {
   "cell_type": "markdown",
   "id": "7b910bca-0554-4d5a-80bd-6003c966703a",
   "metadata": {},
   "source": [
    " #  visualize wait - time distributions"
   ]
  },
  {
   "cell_type": "code",
   "execution_count": 199,
   "id": "82076f9a-3d8d-4aee-adb9-d63ce0c5c792",
   "metadata": {},
   "outputs": [
    {
     "data": {
      "image/png": "[encoded data removed]",
      "text/plain": [
       "<Figure size 800x400 with 1 Axes>"
      ]
     },
     "metadata": {},
     "output_type": "display_data"
    }
   ],
   "source": [
    "plt.figure(figsize = (8,4))\n",
    "for s in [1,2,3,4,5]:\n",
    "    w,_ = simulate_queue(s)\n",
    "    plt.hist(w*60 , bins =30, alpha = 0.5 , label = f's ={s}')\n",
    "plt.axvline(threshold ,color = 'k' , linestyle ='--' ,label = '5 min target')\n",
    "plt.xlabel('wait time (minutes)')\n",
    "plt.ylabel('frequency')\n",
    "plt.title('wait-time disteobution for differnet agent counts ')\n",
    "plt.legend()\n",
    "plt.show()"
   ]
  },
  {
   "cell_type": "code",
   "execution_count": 200,
   "id": "52a81844-23bb-44ab-9cb7-6a90107efe0d",
   "metadata": {},
   "outputs": [],
   "source": [
    "import numpy as np\n",
    "waits_min = [1,1,1,2,2,2,2,3,3,4,4,4,4,4,5]\n",
    "p95_wait = np.percentile(waits_min,25)"
   ]
  },
  {
   "cell_type": "code",
   "execution_count": 203,
   "id": "3f23035c-a2b7-4c2a-8879-54a7b40b38a7",
   "metadata": {},
   "outputs": [
    {
     "name": "stdout",
     "output_type": "stream",
     "text": [
      "2.0\n"
     ]
    }
   ],
   "source": [
    "print(p95_wait)"
   ]
  },
  {
   "cell_type": "code",
   "execution_count": 205,
   "id": "6404b15a-444e-4514-b4a9-f7716d42f05d",
   "metadata": {},
   "outputs": [
    {
     "name": "stdout",
     "output_type": "stream",
     "text": [
      "Time-varying lamda, s=3 -> avg wait = 174.1 min\n"
     ]
    }
   ],
   "source": [
    "def simulate_queue_timevarying(s):\n",
    "    # define piecewise arrival rates per hour\n",
    "    periods = [(0,2,30), (2,6,20), (6,8,40)]  # (start,end,lamda)\n",
    "    arrivals = []\n",
    "    for start, end, lamda in periods:\n",
    "        duration = end - start\n",
    "        inter = np.random.exponential(1/lamda, int(lamda*duration*1.5))\n",
    "        ts = np.cumsum(inter) + start\n",
    "        arrivals.extend(ts[ts < end])\n",
    "    arrivals = np.array(arrivals)\n",
    "    arrivals.sort()\n",
    "\n",
    "    N = len(arrivals)\n",
    "    services = np.random.exponential(1/µ,N)\n",
    "    next_free = np.zeros(s)\n",
    "    wait_times = np.zeros(N)\n",
    "\n",
    "    for i,t in enumerate(arrivals):\n",
    "        j = np.argmin(next_free)\n",
    "        start = max(t, next_free[j])\n",
    "        wait_times[i] = start - t\n",
    "        next_free[j] = start + services[i]\n",
    "    return wait_times\n",
    "\n",
    "w_tv = simulate_queue_timevarying(s=3)\n",
    "print(f\"Time-varying lamda, s=3 -> avg wait = {w_tv.mean()*60:.1f} min\")\n"
   ]
  },
  {
   "cell_type": "code",
   "execution_count": 207,
   "id": "37b66436-242b-4340-aba7-138578534b86",
   "metadata": {},
   "outputs": [],
   "source": [
    "def simulate_with_abandon(s, patience=5/60):\n",
    "    arrivals = np.cumsum(np.random.exponential(1/lamda, int(lamda*shift_hours*1.5)))\n",
    "    arrivals = arrivals[arrivals < shift_hours]\n",
    "    services = np.random.exponential(1/µ, len(arrivals))\n",
    "    next_free = np.zeros(s)\n",
    "    waits = []\n",
    "    abandons = 0\n",
    "\n",
    "    for i, t in enumerate(arrivals):\n",
    "        j = np.argmin(next_free)\n",
    "        start = max(t, next_free[j])\n",
    "        wait = start - t\n",
    "        if wait > patience:\n",
    "            abandons += 1\n",
    "        else:\n",
    "            waits.append(wait)\n",
    "            next_free[j] = start + services[i]\n",
    "    \n",
    "    return np.array(waits), abandons / len(arrivals)\n"
   ]
  },
  {
   "cell_type": "code",
   "execution_count": 209,
   "id": "1adf4668-5eb1-4fa8-b6f0-5418ee7dd373",
   "metadata": {},
   "outputs": [
    {
     "data": {
      "text/plain": [
       "5.135539051369819"
      ]
     },
     "execution_count": 209,
     "metadata": {},
     "output_type": "execute_result"
    }
   ],
   "source": [
    "wait_95 = np.percentile(w.mean()*60,95)\n",
    "wait_95"
   ]
  },
  {
   "cell_type": "code",
   "execution_count": 211,
   "id": "bd03e9c8-0831-4a5b-9625-dbcea0916d35",
   "metadata": {},
   "outputs": [
    {
     "name": "stdout",
     "output_type": "stream",
     "text": [
      "With breaks, s=3 -> avg wait = 54.4 min\n"
     ]
    }
   ],
   "source": [
    "def simulate_with_breaks(s, break_start=3, break_length=0.25):\n",
    "    arrivals = np.cumsum(np.random.exponential(1/lamda, int(lamda*shift_hours*1.5)))\n",
    "    arrivals = arrivals[arrivals<shift_hours]\n",
    "    services = np.random.exponential(1/µ, len(arrivals))\n",
    "    next_free = np.zeros(s)\n",
    "    waits = []\n",
    "\n",
    "    for i,t in enumerate(arrivals):\n",
    "        # if in break window, one fewer agent\n",
    "        avail = next_free.copy()\n",
    "        if break_start < t < break_start + break_length:\n",
    "            avail = np.delete(avail, 0) #remove one agent\n",
    "        j = np.argmin(avail)\n",
    "        start = max(t, avail[j])\n",
    "        waits.append(start - t)\n",
    "        # Update that agent's free time in original array\n",
    "        idx = j + (1 if break_start < t < break_start + break_length else 0)\n",
    "        next_free[idx] = start + services[i]\n",
    "    return np.array(waits)\n",
    "\n",
    "w_b = simulate_with_breaks(s=3)\n",
    "print(f\"With breaks, s=3 -> avg wait = {w_b.mean()*60:.1f} min\")\n",
    "                                                             "
   ]
  },
  {
   "cell_type": "code",
   "execution_count": 213,
   "id": "583b03e1-2677-4485-afe9-8331e30cbe23",
   "metadata": {},
   "outputs": [
    {
     "name": "stdout",
     "output_type": "stream",
     "text": [
      "agent count , total cost:\n",
      "s=1: $597\n",
      "s=2: $757\n",
      "s=3: $917\n",
      "s=4: $1,077\n",
      "s=5: $1,237\n",
      "-> optimal s by cost  =1\n"
     ]
    }
   ],
   "source": [
    "# 9. cost optimization\n",
    "c_agent = 20\n",
    "c_wait = 0.50\n",
    "\n",
    "costs  = []\n",
    "for s in range (1,6):\n",
    "    W,_ = simulate_with_abandon(s) \n",
    "    total_wait_cost = w.sum()*60*c_wait\n",
    "    staff_cost   = s*c_agent * shift_hours\n",
    "    costs.append((s, staff_cost+total_wait_cost))\n",
    "\n",
    "opt = min(costs, key=lambda x: x[1])\n",
    "print(\"agent count , total cost:\")\n",
    "for s,c in costs:print(f\"s={s}: ${c:,.0f}\")\n",
    "print(f\"-> optimal s by cost  ={opt[0]}\")"
   ]
  },
  {
   "cell_type": "code",
   "execution_count": 215,
   "id": "61fdc757-8f1b-42ac-b3a9-92df6849dae2",
   "metadata": {},
   "outputs": [
    {
     "data": {
      "image/png": "[encoded data removed]",
      "text/plain": [
       "<Figure size 640x480 with 2 Axes>"
      ]
     },
     "metadata": {},
     "output_type": "display_data"
    }
   ],
   "source": [
    "days = 30\n",
    "daily = []\n",
    "for _ in range(days):\n",
    "    w,_ = simulate_with_abandon(opt[0])\n",
    "    daily.append((w.mean()*60, np.percentile(w*60,95)))\n",
    "df_days = pd.DataFrame(daily, columns=['AvgWait','P95Wait'])\n",
    "df_days.describe()\n",
    "df_days.hist(bins=10)\n",
    "plt.suptitle('30-Days Variability in Wait Times')\n",
    "plt.show()"
   ]
  },
  {
   "cell_type": "code",
   "execution_count": 217,
   "id": "1387da6c-b4ab-4d5a-8b37-8b9e1892bd8d",
   "metadata": {},
   "outputs": [
    {
     "data": {
      "text/html": [
       "<div>\n",
       "<style scoped>\n",
       "    .dataframe tbody tr th:only-of-type {\n",
       "        vertical-align: middle;\n",
       "    }\n",
       "\n",
       "    .dataframe tbody tr th {\n",
       "        vertical-align: top;\n",
       "    }\n",
       "\n",
       "    .dataframe thead th {\n",
       "        text-align: right;\n",
       "    }\n",
       "</style>\n",
       "<table border=\"1\" class=\"dataframe\">\n",
       "  <thead>\n",
       "    <tr style=\"text-align: right;\">\n",
       "      <th></th>\n",
       "      <th>AvgWait</th>\n",
       "      <th>P95Wait</th>\n",
       "    </tr>\n",
       "  </thead>\n",
       "  <tbody>\n",
       "    <tr>\n",
       "      <th>count</th>\n",
       "      <td>30.000000</td>\n",
       "      <td>30.000000</td>\n",
       "    </tr>\n",
       "    <tr>\n",
       "      <th>mean</th>\n",
       "      <td>2.222694</td>\n",
       "      <td>4.704547</td>\n",
       "    </tr>\n",
       "    <tr>\n",
       "      <th>std</th>\n",
       "      <td>0.328290</td>\n",
       "      <td>0.175044</td>\n",
       "    </tr>\n",
       "    <tr>\n",
       "      <th>min</th>\n",
       "      <td>1.461712</td>\n",
       "      <td>4.248871</td>\n",
       "    </tr>\n",
       "    <tr>\n",
       "      <th>25%</th>\n",
       "      <td>2.098517</td>\n",
       "      <td>4.618924</td>\n",
       "    </tr>\n",
       "    <tr>\n",
       "      <th>50%</th>\n",
       "      <td>2.253284</td>\n",
       "      <td>4.742974</td>\n",
       "    </tr>\n",
       "    <tr>\n",
       "      <th>75%</th>\n",
       "      <td>2.352182</td>\n",
       "      <td>4.822831</td>\n",
       "    </tr>\n",
       "    <tr>\n",
       "      <th>max</th>\n",
       "      <td>2.990834</td>\n",
       "      <td>4.944213</td>\n",
       "    </tr>\n",
       "  </tbody>\n",
       "</table>\n",
       "</div>"
      ],
      "text/plain": [
       "         AvgWait    P95Wait\n",
       "count  30.000000  30.000000\n",
       "mean    2.222694   4.704547\n",
       "std     0.328290   0.175044\n",
       "min     1.461712   4.248871\n",
       "25%     2.098517   4.618924\n",
       "50%     2.253284   4.742974\n",
       "75%     2.352182   4.822831\n",
       "max     2.990834   4.944213"
      ]
     },
     "execution_count": 217,
     "metadata": {},
     "output_type": "execute_result"
    }
   ],
   "source": [
    "df_days.describe()"
   ]
  },
  {
   "cell_type": "code",
   "execution_count": null,
   "id": "83d00d4c-8c23-4dbd-af8d-5d9d1f9e1087",
   "metadata": {},
   "outputs": [],
   "source": []
  }
 ],
 "metadata": {
  "kernelspec": {
   "display_name": "Python 3 (ipykernel)",
   "language": "python",
   "name": "python3"
  },
  "language_info": {
   "codemirror_mode": {
    "name": "ipython",
    "version": 3
   },
   "file_extension": ".py",
   "mimetype": "text/x-python",
   "name": "python",
   "nbconvert_exporter": "python",
   "pygments_lexer": "ipython3",
   "version": "3.12.4"
  }
 },
 "nbformat": 4,
 "nbformat_minor": 5
}
