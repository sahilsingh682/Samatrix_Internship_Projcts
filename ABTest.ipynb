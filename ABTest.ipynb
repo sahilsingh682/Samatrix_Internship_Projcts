{
 "cells": [
  {
   "cell_type": "markdown",
   "id": "e3d0cbfd",
   "metadata": {},
   "source": [
    "# .                                                                 Name : Sahil Singh\n",
    "# .                                                                 Roll : 2301301121\n",
    "# .                                                                 Course : BTech CSE (AI & ML)\n",
    "# .                                                                 Project No. : 2"
   ]
  },
  {
   "cell_type": "markdown",
   "id": "f398fae9-1b64-4895-8985-993d75937332",
   "metadata": {},
   "source": [
    "# Website A/B testing for Conversion Optimisation\n",
    "### Problem:\n",
    "An e-commerce startup wants to know if a new checkout funnel (B) outperforms the old one (A).\n",
    "### Steps:\n",
    "1. Simulate click-through data (visits vs. purchases) for A and B.\n",
    "2. Calculate conversion rates and 95% confidence intervals.\n",
    "3. Plot conversion rates and error bars.\n",
    "4. Perform a 2-proportion z-test"
   ]
  },
  {
   "cell_type": "markdown",
   "id": "f1e3c517-9cfb-4b3d-975d-1b278c2dac5c",
   "metadata": {},
   "source": [
    "# Step 1: Import"
   ]
  },
  {
   "cell_type": "markdown",
   "id": "5c19965a-729c-43c3-95c0-7182171f6259",
   "metadata": {},
   "source": [
    "1. **Library Imports**:\n",
    "   - `numpy` is used for numerical operations and random sampling.\n",
    "   - `pandas` is imported (though not yet used) for potential data handling.\n",
    "   - `scipy.stats` and `proportions_ztest` from `statsmodels` are for statistical analysis.\n",
    "   - `matplotlib.pyplot` is imported for plotting (also not yet used here).\n",
    "\n",
    "2. **Reproducibility**:\n",
    "   - `np.random.seed(1)` ensures that every run of the code produces the same random results, which is critical for debugging and testing.\n",
    "\n",
    "3. **Test Parameters**:\n",
    "   - Variant A: 10,000 users, 10% true conversion rate.\n",
    "   - Variant B: 10,000 users, 12% true conversion rate.\n",
    "\n",
    "4. **Simulation of Conversions**:\n",
    "   - The number of successful conversions for each variant is generated using the **binomial distribution** (`np.random.binomial`), which is appropriate for modeling binary outcomes (success/failure).\n"
   ]
  },
  {
   "cell_type": "code",
   "execution_count": 6,
   "id": "bb36ec1d-bcf0-459c-8904-0221450a9d78",
   "metadata": {},
   "outputs": [],
   "source": [
    "import numpy as np\n",
    "import pandas as pd\n",
    "from scipy import stats\n",
    "import matplotlib.pyplot as plt\n",
    "from statsmodels.stats.proportion import proportions_ztest\n",
    "\n",
    "np.random.seed(1)      # Ensures same random number everytime\n",
    "\n",
    "# Assume 10,000 visitors each\n",
    "n_A, p_A = 10_000, 0.10   # Variant A: 10% true conversion\n",
    "n_B, p_B = 10_000, 0.12   # Variant B: 12% true conversion\n",
    "\n",
    "# Simulate number of purchases\n",
    "success_A = np.random.binomial(n_A,p_A)\n",
    "success_B = np.random.binomial(n_B,p_B)"
   ]
  },
  {
   "cell_type": "markdown",
   "id": "e903eac7-f3f2-4494-8a18-2b82b6cdb90e",
   "metadata": {},
   "source": [
    "- **`success_A`**: Number of users who converted in Variant A (expected ~1000).\n",
    "- **`success_B`**: Number of users who converted in Variant B (expected ~1200)\n",
    "\n",
    "  - These values are simulated based on their respective conversion probabilities (10% for A, 12% for B) and 10,000 users each.\n",
    "  - The binomial distribution introduces realistic randomness while still allowing for control over the average expected result.\n",
    "\n",
    "- These simulated success counts provide the foundation for conducting further statistical analysis, such as a **proportions Z-test**, to determine whether the difference in conversion rates between A and B is **statistically significant** or simply due to **random variation**.\n",
    "\n",
    "This is crucial for mimicking real-world A/B test behavior before applying statistical inference."
   ]
  },
  {
   "cell_type": "code",
   "execution_count": 7,
   "id": "a791a042-0de1-4031-8607-811d21027837",
   "metadata": {},
   "outputs": [
    {
     "name": "stdout",
     "output_type": "stream",
     "text": [
      "991\n",
      "1180\n"
     ]
    }
   ],
   "source": [
    "print(success_A)\n",
    "print(success_B)"
   ]
  },
  {
   "cell_type": "markdown",
   "id": "54d7cb5b-96a0-493d-902a-f0533fcea651",
   "metadata": {},
   "source": [
    "# Step 2: Calculate conversion rates and 95% confidence intervals."
   ]
  },
  {
   "cell_type": "markdown",
   "id": "da79123b-3939-47b0-aa86-35cc15122f80",
   "metadata": {},
   "source": [
    "- Define a function `proportion_ci()` to calculate the **conversion rate** and its **95% confidence interval** for a given number of successes and total visitors.\n",
    "- Use the **normal approximation method**, where:\n",
    "  - `p` is the observed conversion rate.\n",
    "  - `z` is the z-score for the 95% confidence level.\n",
    "  - `se` is the standard error of the proportion.\n",
    "- Apply this function to both Variant A and Variant B using their simulated conversions.\n",
    "- Organize the results in a `DataFrame` to display:\n",
    "  - Variant names,\n",
    "  - Number of visitors and conversions,\n",
    "  - Estimated conversion rates,\n",
    "  - Lower and upper bounds of the 95% confidence intervals.\n",
    "- Print the table for comparison."
   ]
  },
  {
   "cell_type": "code",
   "execution_count": 8,
   "id": "1472440b-f0de-449b-925b-a06261070f20",
   "metadata": {},
   "outputs": [
    {
     "name": "stdout",
     "output_type": "stream",
     "text": [
      "  Variant  Visitors  Conversions  CR (p)  CI Lower (95%)  CI Upper (95%)\n",
      "0       A     10000          991  0.0991        0.093244        0.104956\n",
      "1       B     10000         1180  0.1180        0.111677        0.124323\n"
     ]
    }
   ],
   "source": [
    "def proportion_ci(successes, n, alpha=0.05):\n",
    "    p = successes/n                      # p = probability\n",
    "    z = stats.norm.ppf(1-alpha/2)        # z = z-score, alpha = error\n",
    "    se = np.sqrt(p * (1-p)/n)            # se = standard error\n",
    "    return p,p-z*se,p+z*se\n",
    "\n",
    "p_A, ci_low_A, ci_high_A = proportion_ci(success_A, n_A)\n",
    "p_B, ci_low_B, ci_high_B = proportion_ci(success_B, n_B)\n",
    "\n",
    "results = pd.DataFrame({\n",
    "    'Variant': ['A','B'],\n",
    "    'Visitors': [n_A,n_B],\n",
    "    'Conversions': [success_A,success_B],\n",
    "    'CR (p)': [p_A,p_B],        # CR = Conversion Rate\n",
    "    'CI Lower (95%)': [ci_low_A, ci_low_B],\n",
    "    'CI Upper (95%)': [ci_high_A, ci_high_B],\n",
    "})\n",
    "print(results)"
   ]
  },
  {
   "cell_type": "markdown",
   "id": "93c54318-170f-4fcf-ae68-c92621b1cb6f",
   "metadata": {},
   "source": [
    "- The **observed conversion rate** for Variant A is **0.0991**, based on **991 conversions** out of **10,000 visitors**.  \n",
    "- For Variant B, the observed conversion rate is **0.1180**, based on **1,180 conversions** out of **10,000 visitors**.\n",
    "\n",
    "Using the `proportion_ci()` function, the **95% confidence intervals** for the conversion rates were calculated as follows:\n",
    "\n",
    "- Variant A: **[0.093244, 0.104956]**\n",
    "- Variant B: **[0.111677, 0.124323]**\n",
    "\n",
    "These results are summarized in a tabular format, which includes the number of visitors, number of conversions, calculated conversion rates, and the corresponding confidence intervals.\n",
    "\n",
    "The non-overlapping confidence intervals indicate that Variant B likely performs better than Variant A in terms of conversion rate, with statistical confidence. This provides preliminary evidence that the observed difference is not due to random chance alone."
   ]
  },
  {
   "cell_type": "markdown",
   "id": "91fce115-b5ef-4423-95b4-b8663a9e79e8",
   "metadata": {},
   "source": [
    "# Step 3: Plot conversion rates and error bars."
   ]
  },
  {
   "cell_type": "markdown",
   "id": "5508601d-ee4e-48a5-8bff-03b60c783163",
   "metadata": {},
   "source": [
    "- Create a **bar chart** to visually compare the conversion rates of Variant A and Variant B.\n",
    "- Use the previously computed conversion rates (`CR (p)`) and their **95% confidence intervals**.\n",
    "- Add **error bars** to represent the margin of error (difference between conversion rate and confidence bounds).\n",
    "- Assign distinct colors to each variant (`skyblue` for A and `salmon` for B).\n",
    "- Label the y-axis as “Conversion Rate” and give the plot a title indicating the purpose of the visualization.\n",
    "- Adjust the y-axis limit to ensure that all error bars are fully visible."
   ]
  },
  {
   "cell_type": "code",
   "execution_count": 9,
   "id": "57072d86-3499-48b1-b3ac-534649146a68",
   "metadata": {},
   "outputs": [
    {
     "data": {
      "image/png": "[encoded data removed]",
      "text/plain": [
       "<Figure size 600x400 with 1 Axes>"
      ]
     },
     "metadata": {},
     "output_type": "display_data"
    }
   ],
   "source": [
    "plt.figure(figsize=(6,4))\n",
    "plt.bar(\n",
    "    results['Variant'],\n",
    "    results['CR (p)'],\n",
    "    yerr=[\n",
    "        results['CR (p)']-results['CI Lower (95%)'],\n",
    "        results['CI Upper (95%)']-results['CR (p)']\n",
    "    ],\n",
    "    capsize=5,\n",
    "    color=['skyblue','salmon']\n",
    ")\n",
    "plt.ylabel('Conversion Rate')\n",
    "plt.title('A/B Test: Conversion Rate with 95% CI')\n",
    "plt.ylim(0, max(results['CI Upper (95%)'])+0.02)\n",
    "plt.show()"
   ]
  },
  {
   "cell_type": "markdown",
   "id": "81c7c6b8-ad78-4bdf-8b4b-377eab42a7e9",
   "metadata": {},
   "source": [
    "- **Variant A** has a conversion rate of **approximately 0.099**, while **Variant B** has a higher conversion rate of **approximately 0.118**.\n",
    "- The **95% confidence intervals** are clearly visible through the error bars.\n",
    "- The **error bars do not overlap**, indicating a likely **statistically significant** difference between the two variants.\n",
    "- This suggests that **Variant B performs better than Variant A** in terms of conversion rate."
   ]
  },
  {
   "cell_type": "markdown",
   "id": "6462aeed-ce6f-4fe5-8471-4cbcf3d6f8f1",
   "metadata": {},
   "source": [
    "# Step 4: Two-Proportion z-test"
   ]
  },
  {
   "cell_type": "markdown",
   "id": "d37b424a-97ec-4aaf-8c41-ac2eede7c28f",
   "metadata": {},
   "source": [
    "- Perform a **one-sided two-proportion Z-test** to evaluate whether **Variant B has a significantly higher conversion rate than Variant A**.\n",
    "- Set up the hypotheses as:\n",
    "  - **Null Hypothesis (H₀)**: Conversion rate of B ≤ Conversion rate of A\n",
    "  - **Alternative Hypothesis (H₁)**: Conversion rate of B > Conversion rate of A\n",
    "- Use the `proportions_ztest()` function from `statsmodels` to compute:\n",
    "  - The **Z-statistic**, which measures how far apart the two proportions are, relative to variability.\n",
    "  - The **P-value**, which indicates the probability of observing such a difference if the null hypothesis were true.\n",
    "- Compare the p-value against a **significance level (α) of 0.05** to determine whether to reject H₀.\n",
    "- Print a clear interpretation based on the result."
   ]
  },
  {
   "cell_type": "code",
   "execution_count": 10,
   "id": "ad925628-bb86-4098-84e8-ab0fc3996e70",
   "metadata": {},
   "outputs": [
    {
     "name": "stdout",
     "output_type": "stream",
     "text": [
      "Z-statistic: 4.296\n",
      "P-value: 0.000\n",
      "--> Reject H0: Variant B has a significantly higher conversion rate.\n"
     ]
    }
   ],
   "source": [
    "# test H0: p_B <= p_A vs H1: p_B > p_A\n",
    "\n",
    "count=np.array([success_B,success_A])\n",
    "nobs=np.array([n_B,n_A])\n",
    "\n",
    "z_stat,p_value=proportions_ztest(count,nobs,alternative='larger')\n",
    "print(f\"Z-statistic: {z_stat:.3f}\")\n",
    "print(f\"P-value: {p_value:.3f}\")\n",
    "\n",
    "if p_value < 0.05:\n",
    "    print(\"--> Reject H0: Variant B has a significantly higher conversion rate.\")\n",
    "else:\n",
    "    print(\"--> Fails to reject H0: No significant lift from B over A.\")"
   ]
  },
  {
   "cell_type": "markdown",
   "id": "f3ee4616-9f6b-4c96-a26c-8c75261e25d8",
   "metadata": {},
   "source": [
    "- The **Z-statistic** is **4.296**, indicating a strong difference between the two variants.\n",
    "- The **P-value** is **0.000**, which is well below the 0.05 significance threshold.\n",
    "- This leads us to **reject the null hypothesis (H₀)**."
   ]
  },
  {
   "cell_type": "markdown",
   "id": "7144c971-b0d7-49b4-a45e-5f4bf654fbfc",
   "metadata": {},
   "source": [
    "# Step 5: Real-Time Monitoring & Sequential Testing"
   ]
  },
  {
   "cell_type": "markdown",
   "id": "c31bd845-3bbe-4226-b33c-983234081a0a",
   "metadata": {},
   "source": [
    "- `NumPy` Used for numerical operations, especially arrays, random number generation, and mathematical functions.\n",
    "\n",
    "- `Matplotlib (pyplot)` Used for creating visualizations like bar charts, line graphs, and plots to display data clearly.\n",
    "\n",
    "- `time` Provides functions to measure execution time or add delays in code.\n",
    "\n",
    "- `proportions_ztest` A statistical test to compare two proportions and determine if the difference is significant.\n",
    "\n",
    "- `clear_output` Clears previous outputs in Jupyter notebooks, useful for creating dynamic or real-time updates."
   ]
  },
  {
   "cell_type": "code",
   "execution_count": 11,
   "id": "298560ad-9b5b-4408-8bf8-8ed601e8d015",
   "metadata": {},
   "outputs": [],
   "source": [
    "import numpy as np\n",
    "import matplotlib.pyplot as plt\n",
    "import time\n",
    "from statsmodels.stats.proportion import proportions_ztest\n",
    "from IPython.display import clear_output"
   ]
  },
  {
   "cell_type": "markdown",
   "id": "a6ddfca3-cf41-489c-a8c1-7d16cda4029a",
   "metadata": {},
   "source": [
    "- Define true conversion rates for Variant A (`0.10`) and Variant B (`0.12`).\n",
    "- Set up a simulation with 60 batches, each having 100 visitors per variant.\n",
    "- Initialize counters for total visitors and conversions.\n",
    "- Prepare empty lists to store batch-wise **p-values**, **lifts**, and **batch numbers** for analysis and plotting."
   ]
  },
  {
   "cell_type": "code",
   "execution_count": 12,
   "id": "79dd9a6b-21d4-4ce6-9fec-046afe59fc44",
   "metadata": {},
   "outputs": [],
   "source": [
    "# Use the same true rates from above\n",
    "\n",
    "true_p_A, true_p_B = 0.10,0.12\n",
    "batch_size=100  # visitors per batch per variant\n",
    "n_batches=60       # simulate 60 time steps (e.g. minutes)\n",
    "\n",
    "# Initialize counters\n",
    "n_visits_A = n_visits_B = 0\n",
    "n_succ_A = n_succ_B = 0\n",
    "\n",
    "# Lists to store metrics for plotting\n",
    "batches=[]\n",
    "p_values=[]\n",
    "lifts=[]"
   ]
  },
  {
   "cell_type": "markdown",
   "id": "31870ca6-6283-48e7-a9c5-9e4498365dc7",
   "metadata": {},
   "source": [
    "- Simulation parameters have been initialized to track A/B test performance over time.\n",
    "- Counters will help accumulate visits and conversions.\n",
    "- Lists are ready to store key metrics like p-values and lift, allowing for dynamic analysis across batches."
   ]
  },
  {
   "cell_type": "markdown",
   "id": "ac4164b0-6447-4014-83e0-4192a82f98dc",
   "metadata": {},
   "source": [
    "## Loop through 60 batches (time steps)"
   ]
  },
  {
   "cell_type": "markdown",
   "id": "2cb3b55d-6509-4fdd-a4e4-ea86bada839e",
   "metadata": {},
   "source": [
    "- Simulate a real-time A/B test over 60 batches, where each batch represents 100 new visitors per variant.\n",
    "- In each batch:\n",
    "  - Generate random conversions using a binomial distribution based on true conversion rates.\n",
    "  - Update cumulative counts of visits and conversions for both variants.\n",
    "  - Calculate current conversion rates and the observed lift (CR_B - CR_A).\n",
    "  - Perform a one-sided Z-test to assess if Variant B's conversion rate is significantly higher.\n",
    "  - Record p-values and lift values over time for visualization.\n",
    "- Display current batch statistics and plot:\n",
    "  - **P-value trend** with a reference line at α = 0.05\n",
    "  - **Observed lift trend** over batches\n",
    "- Include a brief pause to simulate real-time progress."
   ]
  },
  {
   "cell_type": "code",
   "execution_count": null,
   "id": "e2c0e02b-f422-4283-a87d-f7fa359fe493",
   "metadata": {},
   "outputs": [
    {
     "name": "stdout",
     "output_type": "stream",
     "text": [
      "Batch 42/60\n",
      "Variant A: 4200 visits, 398 buys --> CR = 9.476%\n",
      "Variant B: 4200 visits, 512 buys --> CR = 12.190%\n",
      "Observed lift: 0.027\n",
      "Z-Stat = 4.00, p-value = 0.0000\n",
      "--> Significant lift detected (p<0.05).\n"
     ]
    },
    {
     "data": {
      "image/png": "[encoded data removed]",
      "text/plain": [
       "<Figure size 1200x400 with 2 Axes>"
      ]
     },
     "metadata": {},
     "output_type": "display_data"
    }
   ],
   "source": [
    "for batch in range (1,n_batches+1):\n",
    "    # Simulate one batch of visitors\n",
    "    new_A=np.random.binomial(batch_size,true_p_A)\n",
    "    new_B=np.random.binomial(batch_size,true_p_B)\n",
    "\n",
    "    # Update totals\n",
    "    n_visits_A +=batch_size\n",
    "    n_visits_B +=batch_size\n",
    "    n_succ_A   +=new_A\n",
    "    n_succ_B   +=new_B\n",
    "\n",
    "    # Compute current conversion rates\n",
    "    cr_A = n_succ_A / n_visits_A\n",
    "    cr_B = n_succ_B / n_visits_B\n",
    "    lift = cr_B - cr_A\n",
    "\n",
    "    # Two-Proportion z-test (one sided: B>A)\n",
    "    count = np.array([n_succ_B, n_succ_A])\n",
    "    nobs = np.array([n_visits_B, n_visits_A])\n",
    "    z_stat , p_val=proportions_ztest(count,nobs,alternative='larger')\n",
    "\n",
    "    # Record for plotting\n",
    "    batches.append(batch)\n",
    "    p_values.append(p_val)\n",
    "    lifts.append(lift)\n",
    "\n",
    "    # Clear previous output and print current stats\n",
    "    clear_output(wait=True)\n",
    "    print(f\"Batch {batch}/{n_batches}\")\n",
    "    print(f\"Variant A: {n_visits_A} visits, {n_succ_A} buys --> CR = {cr_A:.3%}\")\n",
    "    print(f\"Variant B: {n_visits_B} visits, {n_succ_B} buys --> CR = {cr_B:.3%}\")\n",
    "    print(f\"Observed lift: {lift:.3f}\")\n",
    "    print(f\"Z-Stat = {z_stat:.2f}, p-value = {p_val:.4f}\")\n",
    "    if p_val < 0.05:\n",
    "        print(\"--> Significant lift detected (p<0.05).\")\n",
    "    else:\n",
    "        print(\"--> No Significant lift yet.\")\n",
    "\n",
    "    # Plot p-value and lift over batches\n",
    "    fig,axes=plt.subplots(1,2,figsize=(12,4))\n",
    "    axes[0].plot(batches,p_values,'-o')\n",
    "    axes[0].axhline(0.05,color='red',linestyle='--',label='α = 0.05')\n",
    "    axes[0].set_title('Sequential p_value')\n",
    "    axes[0].set_xlabel('Batch Number')\n",
    "    axes[0].set_ylabel('P-value')\n",
    "    axes[0].legend()\n",
    "\n",
    "    axes[1].plot(batches,lifts,'-o')\n",
    "    axes[1].set_title('Observed Lift (CR_B - CR_A)')\n",
    "    axes[1].set_xlabel('Batch Number')\n",
    "    axes[1].set_ylabel('Lift')\n",
    "\n",
    "    plt.tight_layout()\n",
    "    plt.show()\n",
    "\n",
    "    # Pause briefly to simulate real time\n",
    "    time.sleep(0.9)"
   ]
  },
  {
   "cell_type": "markdown",
   "id": "670dadb2-51c3-40ed-938f-7884c9f546bd",
   "metadata": {},
   "source": [
    "- After 60 batches (6,000 visitors per variant), Variant B showed a higher conversion rate (12.38%) compared to Variant A (9.38%), with an observed lift of **3.0%**.\n",
    "- The **Z-statistic was 5.28** with a **p-value of 0.0000**, indicating a statistically significant lift (p < 0.05).\n",
    "- The **left plot** shows that the p-value dropped below 0.05 around batch 6 and remained consistently low, confirming early significance.\n",
    "- The **right plot** shows that the observed lift stabilized between 2.5% and 4.5%, supporting the conclusion that Variant B performs better.\n",
    "- Overall, the simulation effectively demonstrates how statistical significance and lift evolve over time with accumulating data."
   ]
  },
  {
   "cell_type": "markdown",
   "id": "355cadb0",
   "metadata": {},
   "source": []
  }
 ],
 "metadata": {
  "kernelspec": {
   "display_name": "Python 3",
   "language": "python",
   "name": "python3"
  },
  "language_info": {
   "codemirror_mode": {
    "name": "ipython",
    "version": 3
   },
   "file_extension": ".py",
   "mimetype": "text/x-python",
   "name": "python",
   "nbconvert_exporter": "python",
   "pygments_lexer": "ipython3",
   "version": "3.13.3"
  }
 },
 "nbformat": 4,
 "nbformat_minor": 5
}
